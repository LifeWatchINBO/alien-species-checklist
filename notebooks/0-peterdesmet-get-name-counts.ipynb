{
 "cells": [
  {
   "cell_type": "markdown",
   "metadata": {},
   "source": [
    "# Count different name types"
   ]
  },
  {
   "cell_type": "code",
   "execution_count": 1,
   "metadata": {
    "collapsed": true
   },
   "outputs": [],
   "source": [
    "import pandas as pd"
   ]
  },
  {
   "cell_type": "code",
   "execution_count": 2,
   "metadata": {
    "collapsed": false
   },
   "outputs": [],
   "source": [
    "data = pd.read_table('../data/processed/checklist.tsv', dtype=object)"
   ]
  },
  {
   "cell_type": "code",
   "execution_count": 3,
   "metadata": {
    "collapsed": false
   },
   "outputs": [
    {
     "data": {
      "text/html": [
       "<div>\n",
       "<table border=\"1\" class=\"dataframe\">\n",
       "  <thead>\n",
       "    <tr style=\"text-align: right;\">\n",
       "      <th></th>\n",
       "      <th>index</th>\n",
       "      <th>nameMatchValidation</th>\n",
       "      <th>taxonID</th>\n",
       "      <th>datasetName</th>\n",
       "      <th>taxonRank</th>\n",
       "      <th>scientificName</th>\n",
       "      <th>verbatimScientificName</th>\n",
       "      <th>synonym</th>\n",
       "      <th>kingdom</th>\n",
       "      <th>phylum</th>\n",
       "      <th>...</th>\n",
       "      <th>notes</th>\n",
       "      <th>manual_acceptedKey</th>\n",
       "      <th>gbifapi_usageKey</th>\n",
       "      <th>gbifapi_scientificName</th>\n",
       "      <th>gbifapi_canonicalName</th>\n",
       "      <th>gbifapi_status</th>\n",
       "      <th>gbifapi_rank</th>\n",
       "      <th>gbifapi_matchType</th>\n",
       "      <th>gbifapi_acceptedKey</th>\n",
       "      <th>gbifapi_acceptedScientificName</th>\n",
       "    </tr>\n",
       "  </thead>\n",
       "  <tbody>\n",
       "    <tr>\n",
       "      <th>0</th>\n",
       "      <td>0</td>\n",
       "      <td>ok</td>\n",
       "      <td>NaN</td>\n",
       "      <td>fishes</td>\n",
       "      <td>species</td>\n",
       "      <td>Acipenser baerii</td>\n",
       "      <td>Acipenser baeri</td>\n",
       "      <td>NaN</td>\n",
       "      <td>Animalia</td>\n",
       "      <td>NaN</td>\n",
       "      <td>...</td>\n",
       "      <td>NaN</td>\n",
       "      <td>NaN</td>\n",
       "      <td>4287131</td>\n",
       "      <td>Acipenser baerii Brandt, 1869</td>\n",
       "      <td>Acipenser baerii</td>\n",
       "      <td>ACCEPTED</td>\n",
       "      <td>SPECIES</td>\n",
       "      <td>EXACT</td>\n",
       "      <td>4287131</td>\n",
       "      <td>Acipenser baerii Brandt, 1869</td>\n",
       "    </tr>\n",
       "    <tr>\n",
       "      <th>1</th>\n",
       "      <td>1</td>\n",
       "      <td>ok</td>\n",
       "      <td>NaN</td>\n",
       "      <td>fishes</td>\n",
       "      <td>species</td>\n",
       "      <td>Acipenser gueldenstaedtii</td>\n",
       "      <td>Acipenser guldenstaedti</td>\n",
       "      <td>NaN</td>\n",
       "      <td>Animalia</td>\n",
       "      <td>NaN</td>\n",
       "      <td>...</td>\n",
       "      <td>NaN</td>\n",
       "      <td>NaN</td>\n",
       "      <td>2402129</td>\n",
       "      <td>Acipenser gueldenstaedtii Brandt &amp; Ratzeburg, ...</td>\n",
       "      <td>Acipenser gueldenstaedtii</td>\n",
       "      <td>ACCEPTED</td>\n",
       "      <td>SPECIES</td>\n",
       "      <td>EXACT</td>\n",
       "      <td>2402129</td>\n",
       "      <td>Acipenser gueldenstaedtii Brandt &amp; Ratzeburg, ...</td>\n",
       "    </tr>\n",
       "    <tr>\n",
       "      <th>2</th>\n",
       "      <td>2</td>\n",
       "      <td>ok</td>\n",
       "      <td>NaN</td>\n",
       "      <td>fishes</td>\n",
       "      <td>species</td>\n",
       "      <td>Acipenser ruthenus</td>\n",
       "      <td>Acipenser ruthenus</td>\n",
       "      <td>NaN</td>\n",
       "      <td>Animalia</td>\n",
       "      <td>NaN</td>\n",
       "      <td>...</td>\n",
       "      <td>NaN</td>\n",
       "      <td>NaN</td>\n",
       "      <td>2402168</td>\n",
       "      <td>Acipenser ruthenus Linnaeus, 1758</td>\n",
       "      <td>Acipenser ruthenus</td>\n",
       "      <td>ACCEPTED</td>\n",
       "      <td>SPECIES</td>\n",
       "      <td>EXACT</td>\n",
       "      <td>2402168</td>\n",
       "      <td>Acipenser ruthenus Linnaeus, 1758</td>\n",
       "    </tr>\n",
       "    <tr>\n",
       "      <th>3</th>\n",
       "      <td>3</td>\n",
       "      <td>ok</td>\n",
       "      <td>NaN</td>\n",
       "      <td>fishes</td>\n",
       "      <td>species</td>\n",
       "      <td>Ameiurus nebulosus</td>\n",
       "      <td>Ameiurus nebulosus</td>\n",
       "      <td>NaN</td>\n",
       "      <td>Animalia</td>\n",
       "      <td>NaN</td>\n",
       "      <td>...</td>\n",
       "      <td>NaN</td>\n",
       "      <td>NaN</td>\n",
       "      <td>2340989</td>\n",
       "      <td>Ameiurus nebulosus (Lesueur, 1819)</td>\n",
       "      <td>Ameiurus nebulosus</td>\n",
       "      <td>ACCEPTED</td>\n",
       "      <td>SPECIES</td>\n",
       "      <td>EXACT</td>\n",
       "      <td>2340989</td>\n",
       "      <td>Ameiurus nebulosus (Lesueur, 1819)</td>\n",
       "    </tr>\n",
       "    <tr>\n",
       "      <th>4</th>\n",
       "      <td>4</td>\n",
       "      <td>ok: SYNONYM confirmed</td>\n",
       "      <td>NaN</td>\n",
       "      <td>fishes</td>\n",
       "      <td>species</td>\n",
       "      <td>Aspius aspius</td>\n",
       "      <td>Aspius aspius</td>\n",
       "      <td>NaN</td>\n",
       "      <td>Animalia</td>\n",
       "      <td>NaN</td>\n",
       "      <td>...</td>\n",
       "      <td>NaN</td>\n",
       "      <td>NaN</td>\n",
       "      <td>2360181</td>\n",
       "      <td>Aspius aspius (Linnaeus, 1758)</td>\n",
       "      <td>Aspius aspius</td>\n",
       "      <td>SYNONYM</td>\n",
       "      <td>SPECIES</td>\n",
       "      <td>EXACT</td>\n",
       "      <td>5851603</td>\n",
       "      <td>Leuciscus aspius (Linnaeus, 1758)</td>\n",
       "    </tr>\n",
       "  </tbody>\n",
       "</table>\n",
       "<p>5 rows × 64 columns</p>\n",
       "</div>"
      ],
      "text/plain": [
       "  index    nameMatchValidation taxonID datasetName taxonRank  \\\n",
       "0     0                     ok     NaN      fishes   species   \n",
       "1     1                     ok     NaN      fishes   species   \n",
       "2     2                     ok     NaN      fishes   species   \n",
       "3     3                     ok     NaN      fishes   species   \n",
       "4     4  ok: SYNONYM confirmed     NaN      fishes   species   \n",
       "\n",
       "              scientificName   verbatimScientificName synonym   kingdom  \\\n",
       "0           Acipenser baerii          Acipenser baeri     NaN  Animalia   \n",
       "1  Acipenser gueldenstaedtii  Acipenser guldenstaedti     NaN  Animalia   \n",
       "2         Acipenser ruthenus       Acipenser ruthenus     NaN  Animalia   \n",
       "3         Ameiurus nebulosus       Ameiurus nebulosus     NaN  Animalia   \n",
       "4              Aspius aspius            Aspius aspius     NaN  Animalia   \n",
       "\n",
       "  phylum                        ...                         notes  \\\n",
       "0    NaN                        ...                           NaN   \n",
       "1    NaN                        ...                           NaN   \n",
       "2    NaN                        ...                           NaN   \n",
       "3    NaN                        ...                           NaN   \n",
       "4    NaN                        ...                           NaN   \n",
       "\n",
       "  manual_acceptedKey gbifapi_usageKey  \\\n",
       "0                NaN          4287131   \n",
       "1                NaN          2402129   \n",
       "2                NaN          2402168   \n",
       "3                NaN          2340989   \n",
       "4                NaN          2360181   \n",
       "\n",
       "                              gbifapi_scientificName  \\\n",
       "0                      Acipenser baerii Brandt, 1869   \n",
       "1  Acipenser gueldenstaedtii Brandt & Ratzeburg, ...   \n",
       "2                  Acipenser ruthenus Linnaeus, 1758   \n",
       "3                 Ameiurus nebulosus (Lesueur, 1819)   \n",
       "4                     Aspius aspius (Linnaeus, 1758)   \n",
       "\n",
       "       gbifapi_canonicalName gbifapi_status gbifapi_rank gbifapi_matchType  \\\n",
       "0           Acipenser baerii       ACCEPTED      SPECIES             EXACT   \n",
       "1  Acipenser gueldenstaedtii       ACCEPTED      SPECIES             EXACT   \n",
       "2         Acipenser ruthenus       ACCEPTED      SPECIES             EXACT   \n",
       "3         Ameiurus nebulosus       ACCEPTED      SPECIES             EXACT   \n",
       "4              Aspius aspius        SYNONYM      SPECIES             EXACT   \n",
       "\n",
       "  gbifapi_acceptedKey                     gbifapi_acceptedScientificName  \n",
       "0             4287131                      Acipenser baerii Brandt, 1869  \n",
       "1             2402129  Acipenser gueldenstaedtii Brandt & Ratzeburg, ...  \n",
       "2             2402168                  Acipenser ruthenus Linnaeus, 1758  \n",
       "3             2340989                 Ameiurus nebulosus (Lesueur, 1819)  \n",
       "4             5851603                  Leuciscus aspius (Linnaeus, 1758)  \n",
       "\n",
       "[5 rows x 64 columns]"
      ]
     },
     "execution_count": 3,
     "metadata": {},
     "output_type": "execute_result"
    }
   ],
   "source": [
    "data.head()"
   ]
  },
  {
   "cell_type": "markdown",
   "metadata": {},
   "source": [
    "## Number of records"
   ]
  },
  {
   "cell_type": "code",
   "execution_count": 4,
   "metadata": {
    "collapsed": false
   },
   "outputs": [
    {
     "data": {
      "text/plain": [
       "2846"
      ]
     },
     "execution_count": 4,
     "metadata": {},
     "output_type": "execute_result"
    }
   ],
   "source": [
    "data['index'].count()"
   ]
  },
  {
   "cell_type": "markdown",
   "metadata": {},
   "source": [
    "## Number of *unique* usageKeys\n",
    "\n",
    "Unmatched names will not be included."
   ]
  },
  {
   "cell_type": "code",
   "execution_count": 5,
   "metadata": {
    "collapsed": false
   },
   "outputs": [
    {
     "data": {
      "text/plain": [
       "2586"
      ]
     },
     "execution_count": 5,
     "metadata": {},
     "output_type": "execute_result"
    }
   ],
   "source": [
    "data.groupby('gbifapi_usageKey').first().reset_index()['index'].count()"
   ]
  },
  {
   "cell_type": "markdown",
   "metadata": {},
   "source": [
    "## Number of records that need synonymy verification\n",
    "\n",
    "Might contain duplicates."
   ]
  },
  {
   "cell_type": "code",
   "execution_count": 6,
   "metadata": {
    "collapsed": false
   },
   "outputs": [
    {
     "data": {
      "text/plain": [
       "135"
      ]
     },
     "execution_count": 6,
     "metadata": {},
     "output_type": "execute_result"
    }
   ],
   "source": [
    "data[data['nameMatchValidation'].str.contains('verify', na=False)]['index'].count()"
   ]
  },
  {
   "cell_type": "markdown",
   "metadata": {},
   "source": [
    "## Number of verified *unique* acceptedKeys\n",
    "\n",
    "Only names that contain `ok`, so no wrong matches, no matches or unverified synonyms."
   ]
  },
  {
   "cell_type": "code",
   "execution_count": 7,
   "metadata": {
    "collapsed": false
   },
   "outputs": [
    {
     "data": {
      "text/plain": [
       "2438"
      ]
     },
     "execution_count": 7,
     "metadata": {},
     "output_type": "execute_result"
    }
   ],
   "source": [
    "data[data['nameMatchValidation'].str.contains('ok', na=False)].groupby('gbifapi_usageKey').first().reset_index()['index'].count()"
   ]
  },
  {
   "cell_type": "code",
   "execution_count": null,
   "metadata": {
    "collapsed": true
   },
   "outputs": [],
   "source": []
  }
 ],
 "metadata": {
  "kernelspec": {
   "display_name": "Python 3",
   "language": "python",
   "name": "python3"
  },
  "language_info": {
   "codemirror_mode": {
    "name": "ipython",
    "version": 3
   },
   "file_extension": ".py",
   "mimetype": "text/x-python",
   "name": "python",
   "nbconvert_exporter": "python",
   "pygments_lexer": "ipython3",
   "version": "3.5.1"
  }
 },
 "nbformat": 4,
 "nbformat_minor": 0
}
