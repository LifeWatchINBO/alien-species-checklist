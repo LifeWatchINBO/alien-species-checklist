{
 "cells": [
  {
   "cell_type": "markdown",
   "metadata": {},
   "source": [
    "# Created aggregated checklist"
   ]
  },
  {
   "cell_type": "code",
   "execution_count": 1,
   "metadata": {
    "collapsed": true
   },
   "outputs": [],
   "source": [
    "import pandas as pd\n",
    "from collections import OrderedDict"
   ]
  },
  {
   "cell_type": "code",
   "execution_count": 2,
   "metadata": {
    "collapsed": false
   },
   "outputs": [],
   "source": [
    "data = pd.read_table('../data/processed/checklist.tsv', dtype=object)"
   ]
  },
  {
   "cell_type": "code",
   "execution_count": 3,
   "metadata": {
    "collapsed": false
   },
   "outputs": [
    {
     "data": {
      "text/html": [
       "<div>\n",
       "<table border=\"1\" class=\"dataframe\">\n",
       "  <thead>\n",
       "    <tr style=\"text-align: right;\">\n",
       "      <th></th>\n",
       "      <th>index</th>\n",
       "      <th>nameMatchValidation</th>\n",
       "      <th>taxonID</th>\n",
       "      <th>datasetName</th>\n",
       "      <th>taxonRank</th>\n",
       "      <th>scientificName</th>\n",
       "      <th>verbatimScientificName</th>\n",
       "      <th>synonym</th>\n",
       "      <th>kingdom</th>\n",
       "      <th>phylum</th>\n",
       "      <th>...</th>\n",
       "      <th>notes</th>\n",
       "      <th>manual_acceptedKey</th>\n",
       "      <th>gbifapi_usageKey</th>\n",
       "      <th>gbifapi_scientificName</th>\n",
       "      <th>gbifapi_canonicalName</th>\n",
       "      <th>gbifapi_status</th>\n",
       "      <th>gbifapi_rank</th>\n",
       "      <th>gbifapi_matchType</th>\n",
       "      <th>gbifapi_acceptedKey</th>\n",
       "      <th>gbifapi_acceptedScientificName</th>\n",
       "    </tr>\n",
       "  </thead>\n",
       "  <tbody>\n",
       "    <tr>\n",
       "      <th>0</th>\n",
       "      <td>0</td>\n",
       "      <td>ok</td>\n",
       "      <td>NaN</td>\n",
       "      <td>fishes</td>\n",
       "      <td>species</td>\n",
       "      <td>Acipenser baerii</td>\n",
       "      <td>Acipenser baeri</td>\n",
       "      <td>NaN</td>\n",
       "      <td>Animalia</td>\n",
       "      <td>NaN</td>\n",
       "      <td>...</td>\n",
       "      <td>NaN</td>\n",
       "      <td>NaN</td>\n",
       "      <td>4287131</td>\n",
       "      <td>Acipenser baerii Brandt, 1869</td>\n",
       "      <td>Acipenser baerii</td>\n",
       "      <td>ACCEPTED</td>\n",
       "      <td>SPECIES</td>\n",
       "      <td>EXACT</td>\n",
       "      <td>4287131</td>\n",
       "      <td>Acipenser baerii Brandt, 1869</td>\n",
       "    </tr>\n",
       "    <tr>\n",
       "      <th>1</th>\n",
       "      <td>1</td>\n",
       "      <td>ok</td>\n",
       "      <td>NaN</td>\n",
       "      <td>fishes</td>\n",
       "      <td>species</td>\n",
       "      <td>Acipenser gueldenstaedtii</td>\n",
       "      <td>Acipenser guldenstaedti</td>\n",
       "      <td>NaN</td>\n",
       "      <td>Animalia</td>\n",
       "      <td>NaN</td>\n",
       "      <td>...</td>\n",
       "      <td>NaN</td>\n",
       "      <td>NaN</td>\n",
       "      <td>2402129</td>\n",
       "      <td>Acipenser gueldenstaedtii Brandt &amp; Ratzeburg, ...</td>\n",
       "      <td>Acipenser gueldenstaedtii</td>\n",
       "      <td>ACCEPTED</td>\n",
       "      <td>SPECIES</td>\n",
       "      <td>EXACT</td>\n",
       "      <td>2402129</td>\n",
       "      <td>Acipenser gueldenstaedtii Brandt &amp; Ratzeburg, ...</td>\n",
       "    </tr>\n",
       "    <tr>\n",
       "      <th>2</th>\n",
       "      <td>2</td>\n",
       "      <td>ok</td>\n",
       "      <td>NaN</td>\n",
       "      <td>fishes</td>\n",
       "      <td>species</td>\n",
       "      <td>Acipenser ruthenus</td>\n",
       "      <td>Acipenser ruthenus</td>\n",
       "      <td>NaN</td>\n",
       "      <td>Animalia</td>\n",
       "      <td>NaN</td>\n",
       "      <td>...</td>\n",
       "      <td>NaN</td>\n",
       "      <td>NaN</td>\n",
       "      <td>2402168</td>\n",
       "      <td>Acipenser ruthenus Linnaeus, 1758</td>\n",
       "      <td>Acipenser ruthenus</td>\n",
       "      <td>ACCEPTED</td>\n",
       "      <td>SPECIES</td>\n",
       "      <td>EXACT</td>\n",
       "      <td>2402168</td>\n",
       "      <td>Acipenser ruthenus Linnaeus, 1758</td>\n",
       "    </tr>\n",
       "    <tr>\n",
       "      <th>3</th>\n",
       "      <td>3</td>\n",
       "      <td>ok</td>\n",
       "      <td>NaN</td>\n",
       "      <td>fishes</td>\n",
       "      <td>species</td>\n",
       "      <td>Ameiurus nebulosus</td>\n",
       "      <td>Ameiurus nebulosus</td>\n",
       "      <td>NaN</td>\n",
       "      <td>Animalia</td>\n",
       "      <td>NaN</td>\n",
       "      <td>...</td>\n",
       "      <td>NaN</td>\n",
       "      <td>NaN</td>\n",
       "      <td>2340989</td>\n",
       "      <td>Ameiurus nebulosus (Lesueur, 1819)</td>\n",
       "      <td>Ameiurus nebulosus</td>\n",
       "      <td>ACCEPTED</td>\n",
       "      <td>SPECIES</td>\n",
       "      <td>EXACT</td>\n",
       "      <td>2340989</td>\n",
       "      <td>Ameiurus nebulosus (Lesueur, 1819)</td>\n",
       "    </tr>\n",
       "    <tr>\n",
       "      <th>4</th>\n",
       "      <td>4</td>\n",
       "      <td>ok: SYNONYM verified</td>\n",
       "      <td>NaN</td>\n",
       "      <td>fishes</td>\n",
       "      <td>species</td>\n",
       "      <td>Aspius aspius</td>\n",
       "      <td>Aspius aspius</td>\n",
       "      <td>NaN</td>\n",
       "      <td>Animalia</td>\n",
       "      <td>NaN</td>\n",
       "      <td>...</td>\n",
       "      <td>NaN</td>\n",
       "      <td>NaN</td>\n",
       "      <td>2360181</td>\n",
       "      <td>Aspius aspius (Linnaeus, 1758)</td>\n",
       "      <td>Aspius aspius</td>\n",
       "      <td>SYNONYM</td>\n",
       "      <td>SPECIES</td>\n",
       "      <td>EXACT</td>\n",
       "      <td>5851603</td>\n",
       "      <td>Leuciscus aspius (Linnaeus, 1758)</td>\n",
       "    </tr>\n",
       "  </tbody>\n",
       "</table>\n",
       "<p>5 rows × 64 columns</p>\n",
       "</div>"
      ],
      "text/plain": [
       "  index   nameMatchValidation taxonID datasetName taxonRank  \\\n",
       "0     0                    ok     NaN      fishes   species   \n",
       "1     1                    ok     NaN      fishes   species   \n",
       "2     2                    ok     NaN      fishes   species   \n",
       "3     3                    ok     NaN      fishes   species   \n",
       "4     4  ok: SYNONYM verified     NaN      fishes   species   \n",
       "\n",
       "              scientificName   verbatimScientificName synonym   kingdom  \\\n",
       "0           Acipenser baerii          Acipenser baeri     NaN  Animalia   \n",
       "1  Acipenser gueldenstaedtii  Acipenser guldenstaedti     NaN  Animalia   \n",
       "2         Acipenser ruthenus       Acipenser ruthenus     NaN  Animalia   \n",
       "3         Ameiurus nebulosus       Ameiurus nebulosus     NaN  Animalia   \n",
       "4              Aspius aspius            Aspius aspius     NaN  Animalia   \n",
       "\n",
       "  phylum                        ...                         notes  \\\n",
       "0    NaN                        ...                           NaN   \n",
       "1    NaN                        ...                           NaN   \n",
       "2    NaN                        ...                           NaN   \n",
       "3    NaN                        ...                           NaN   \n",
       "4    NaN                        ...                           NaN   \n",
       "\n",
       "  manual_acceptedKey gbifapi_usageKey  \\\n",
       "0                NaN          4287131   \n",
       "1                NaN          2402129   \n",
       "2                NaN          2402168   \n",
       "3                NaN          2340989   \n",
       "4                NaN          2360181   \n",
       "\n",
       "                              gbifapi_scientificName  \\\n",
       "0                      Acipenser baerii Brandt, 1869   \n",
       "1  Acipenser gueldenstaedtii Brandt & Ratzeburg, ...   \n",
       "2                  Acipenser ruthenus Linnaeus, 1758   \n",
       "3                 Ameiurus nebulosus (Lesueur, 1819)   \n",
       "4                     Aspius aspius (Linnaeus, 1758)   \n",
       "\n",
       "       gbifapi_canonicalName gbifapi_status gbifapi_rank gbifapi_matchType  \\\n",
       "0           Acipenser baerii       ACCEPTED      SPECIES             EXACT   \n",
       "1  Acipenser gueldenstaedtii       ACCEPTED      SPECIES             EXACT   \n",
       "2         Acipenser ruthenus       ACCEPTED      SPECIES             EXACT   \n",
       "3         Ameiurus nebulosus       ACCEPTED      SPECIES             EXACT   \n",
       "4              Aspius aspius        SYNONYM      SPECIES             EXACT   \n",
       "\n",
       "  gbifapi_acceptedKey                     gbifapi_acceptedScientificName  \n",
       "0             4287131                      Acipenser baerii Brandt, 1869  \n",
       "1             2402129  Acipenser gueldenstaedtii Brandt & Ratzeburg, ...  \n",
       "2             2402168                  Acipenser ruthenus Linnaeus, 1758  \n",
       "3             2340989                 Ameiurus nebulosus (Lesueur, 1819)  \n",
       "4             5851603                  Leuciscus aspius (Linnaeus, 1758)  \n",
       "\n",
       "[5 rows x 64 columns]"
      ]
     },
     "execution_count": 3,
     "metadata": {},
     "output_type": "execute_result"
    }
   ],
   "source": [
    "data.head()"
   ]
  },
  {
   "cell_type": "markdown",
   "metadata": {},
   "source": [
    "## Retrieve valid records only\n",
    "\n",
    "Only records that contain ok, so no wrong matches, no matches or unverified synonyms."
   ]
  },
  {
   "cell_type": "code",
   "execution_count": 4,
   "metadata": {
    "collapsed": false
   },
   "outputs": [],
   "source": [
    "validRecords = data[data['nameMatchValidation'].str.contains('ok')]"
   ]
  },
  {
   "cell_type": "code",
   "execution_count": 5,
   "metadata": {
    "collapsed": false
   },
   "outputs": [
    {
     "data": {
      "text/plain": [
       "2504"
      ]
     },
     "execution_count": 5,
     "metadata": {},
     "output_type": "execute_result"
    }
   ],
   "source": [
    "validRecords['index'].count()"
   ]
  },
  {
   "cell_type": "markdown",
   "metadata": {},
   "source": [
    "## Aggregate and sort on gbifapi_acceptedName & collect unique values for some columns"
   ]
  },
  {
   "cell_type": "code",
   "execution_count": 6,
   "metadata": {
    "collapsed": false
   },
   "outputs": [],
   "source": [
    "def get_unique_values(series):\n",
    "    # dropna(): remove NaN values\n",
    "    # tuple(): will collect all values of a series as a tuple\n",
    "    # set(): will only keep (unordered) unique values\n",
    "    # Returns a set\n",
    "    \n",
    "    # It would have been easier to just return a list(), so we can sort it too,\n",
    "    # but then we get 'Function does not reduce' (http://stackoverflow.com/a/37955931)\n",
    "    # so have to use tuple()\n",
    "    return set(tuple(series.dropna()))"
   ]
  },
  {
   "cell_type": "code",
   "execution_count": 7,
   "metadata": {
    "collapsed": true
   },
   "outputs": [],
   "source": [
    "# Default dict syntax for aggregation does not preserve column order\n",
    "# unique_values_per_column = {\n",
    "#    'kingdom': lambda x: get_unique_values(x),\n",
    "#    'invasionStage': lambda x: get_unique_values(x),\n",
    "#    'datasetName': lambda x: get_unique_values(x),\n",
    "#    'presenceBE': lambda x: get_unique_values(x),\n",
    "#    'index': lambda x: get_unique_values(x)\n",
    "# }"
   ]
  },
  {
   "cell_type": "code",
   "execution_count": 8,
   "metadata": {
    "collapsed": false
   },
   "outputs": [],
   "source": [
    "# OrderedDict syntax for aggregation does preserve column order\n",
    "unique_values_per_column = OrderedDict([\n",
    "    ('kingdom', lambda x: get_unique_values(x)),\n",
    "    ('invasionStage', lambda x: get_unique_values(x)),\n",
    "    ('datasetName', lambda x: get_unique_values(x)),\n",
    "    ('presenceBE', lambda x: get_unique_values(x)),\n",
    "    ('gbifapi_scientificName', lambda x: get_unique_values(x)),\n",
    "    ('index', lambda x: get_unique_values(x))\n",
    "])"
   ]
  },
  {
   "cell_type": "code",
   "execution_count": 9,
   "metadata": {
    "collapsed": false
   },
   "outputs": [],
   "source": [
    "aggregatedRecords = validRecords.groupby(['gbifapi_acceptedScientificName','gbifapi_acceptedKey']).agg(unique_values_per_column).reset_index()"
   ]
  },
  {
   "cell_type": "code",
   "execution_count": 10,
   "metadata": {
    "collapsed": true
   },
   "outputs": [],
   "source": [
    "aggregatedRecords = aggregatedRecords.sort_values(by='gbifapi_acceptedScientificName')"
   ]
  },
  {
   "cell_type": "code",
   "execution_count": 11,
   "metadata": {
    "collapsed": false,
    "scrolled": false
   },
   "outputs": [
    {
     "data": {
      "text/html": [
       "<div>\n",
       "<table border=\"1\" class=\"dataframe\">\n",
       "  <thead>\n",
       "    <tr style=\"text-align: right;\">\n",
       "      <th></th>\n",
       "      <th>gbifapi_acceptedScientificName</th>\n",
       "      <th>gbifapi_acceptedKey</th>\n",
       "      <th>kingdom</th>\n",
       "      <th>invasionStage</th>\n",
       "      <th>datasetName</th>\n",
       "      <th>presenceBE</th>\n",
       "      <th>gbifapi_scientificName</th>\n",
       "      <th>index</th>\n",
       "    </tr>\n",
       "  </thead>\n",
       "  <tbody>\n",
       "    <tr>\n",
       "      <th>0</th>\n",
       "      <td>Abies alba Mill.</td>\n",
       "      <td>2685484</td>\n",
       "      <td>{Plantae}</td>\n",
       "      <td>{introduced}</td>\n",
       "      <td>{plants}</td>\n",
       "      <td>{present}</td>\n",
       "      <td>{Abies alba Mill.}</td>\n",
       "      <td>{1778}</td>\n",
       "    </tr>\n",
       "    <tr>\n",
       "      <th>1</th>\n",
       "      <td>Abies grandis (Douglas ex D. Don) Lindl.</td>\n",
       "      <td>2685361</td>\n",
       "      <td>{Plantae}</td>\n",
       "      <td>{introduced}</td>\n",
       "      <td>{plants}</td>\n",
       "      <td>{present}</td>\n",
       "      <td>{Abies grandis (Douglas ex D. Don) Lindl.}</td>\n",
       "      <td>{1779}</td>\n",
       "    </tr>\n",
       "    <tr>\n",
       "      <th>2</th>\n",
       "      <td>Abronia fragrans Nutt. ex Hook.</td>\n",
       "      <td>5384889</td>\n",
       "      <td>{Plantae}</td>\n",
       "      <td>{introduced}</td>\n",
       "      <td>{plants}</td>\n",
       "      <td>{present}</td>\n",
       "      <td>{Abronia fragrans Nutt.}</td>\n",
       "      <td>{1659}</td>\n",
       "    </tr>\n",
       "    <tr>\n",
       "      <th>3</th>\n",
       "      <td>Abutilon theophrasti Medik.</td>\n",
       "      <td>3152614</td>\n",
       "      <td>{Plantae}</td>\n",
       "      <td>{unknown}</td>\n",
       "      <td>{plants}</td>\n",
       "      <td>{present}</td>\n",
       "      <td>{Abutilon theophrasti Medik.}</td>\n",
       "      <td>{1610}</td>\n",
       "    </tr>\n",
       "    <tr>\n",
       "      <th>4</th>\n",
       "      <td>Acalypha indica L.</td>\n",
       "      <td>3056259</td>\n",
       "      <td>{Plantae}</td>\n",
       "      <td>{introduced}</td>\n",
       "      <td>{plants}</td>\n",
       "      <td>{present}</td>\n",
       "      <td>{Acalypha indica L.}</td>\n",
       "      <td>{1221}</td>\n",
       "    </tr>\n",
       "  </tbody>\n",
       "</table>\n",
       "</div>"
      ],
      "text/plain": [
       "             gbifapi_acceptedScientificName gbifapi_acceptedKey    kingdom  \\\n",
       "0                          Abies alba Mill.             2685484  {Plantae}   \n",
       "1  Abies grandis (Douglas ex D. Don) Lindl.             2685361  {Plantae}   \n",
       "2           Abronia fragrans Nutt. ex Hook.             5384889  {Plantae}   \n",
       "3               Abutilon theophrasti Medik.             3152614  {Plantae}   \n",
       "4                        Acalypha indica L.             3056259  {Plantae}   \n",
       "\n",
       "  invasionStage datasetName presenceBE  \\\n",
       "0  {introduced}    {plants}  {present}   \n",
       "1  {introduced}    {plants}  {present}   \n",
       "2  {introduced}    {plants}  {present}   \n",
       "3     {unknown}    {plants}  {present}   \n",
       "4  {introduced}    {plants}  {present}   \n",
       "\n",
       "                       gbifapi_scientificName   index  \n",
       "0                          {Abies alba Mill.}  {1778}  \n",
       "1  {Abies grandis (Douglas ex D. Don) Lindl.}  {1779}  \n",
       "2                    {Abronia fragrans Nutt.}  {1659}  \n",
       "3               {Abutilon theophrasti Medik.}  {1610}  \n",
       "4                        {Acalypha indica L.}  {1221}  "
      ]
     },
     "execution_count": 11,
     "metadata": {},
     "output_type": "execute_result"
    }
   ],
   "source": [
    "aggregatedRecords.head()"
   ]
  },
  {
   "cell_type": "markdown",
   "metadata": {},
   "source": [
    "## Sort and concatenate unique values per column"
   ]
  },
  {
   "cell_type": "code",
   "execution_count": 12,
   "metadata": {
    "collapsed": true
   },
   "outputs": [],
   "source": [
    "def sort_and_concatenate(aSet, sortAs=str):\n",
    "    # sortAs allows to sort more specific\n",
    "    # {9, 200, 12} will be sorted as:\n",
    "    # '12, 200, 9' with default str\n",
    "    # '9, 12, 200' with int\n",
    "    sortedList = sorted(aSet, key=sortAs)\n",
    "    concatenatedList = ', '.join(str(i) for i in sortedList)\n",
    "    return concatenatedList # a string"
   ]
  },
  {
   "cell_type": "code",
   "execution_count": 13,
   "metadata": {
    "collapsed": true
   },
   "outputs": [],
   "source": [
    "aggregatedRecords['kingdom'] = aggregatedRecords['kingdom'].apply(lambda x: sort_and_concatenate(x))\n",
    "aggregatedRecords['invasionStage'] = aggregatedRecords['invasionStage'].apply(lambda x: sort_and_concatenate(x))\n",
    "aggregatedRecords['datasetName'] = aggregatedRecords['datasetName'].apply(lambda x: sort_and_concatenate(x))\n",
    "aggregatedRecords['presenceBE'] = aggregatedRecords['presenceBE'].apply(lambda x: sort_and_concatenate(x))\n",
    "aggregatedRecords['gbifapi_scientificName'] = aggregatedRecords['gbifapi_scientificName'].apply(lambda x: sort_and_concatenate(x))\n",
    "aggregatedRecords['index'] = aggregatedRecords['index'].apply(lambda x: sort_and_concatenate(x, int))"
   ]
  },
  {
   "cell_type": "code",
   "execution_count": 14,
   "metadata": {
    "collapsed": false
   },
   "outputs": [
    {
     "data": {
      "text/html": [
       "<div>\n",
       "<table border=\"1\" class=\"dataframe\">\n",
       "  <thead>\n",
       "    <tr style=\"text-align: right;\">\n",
       "      <th></th>\n",
       "      <th>gbifapi_acceptedScientificName</th>\n",
       "      <th>gbifapi_acceptedKey</th>\n",
       "      <th>kingdom</th>\n",
       "      <th>invasionStage</th>\n",
       "      <th>datasetName</th>\n",
       "      <th>presenceBE</th>\n",
       "      <th>gbifapi_scientificName</th>\n",
       "      <th>index</th>\n",
       "    </tr>\n",
       "  </thead>\n",
       "  <tbody>\n",
       "    <tr>\n",
       "      <th>0</th>\n",
       "      <td>Abies alba Mill.</td>\n",
       "      <td>2685484</td>\n",
       "      <td>Plantae</td>\n",
       "      <td>introduced</td>\n",
       "      <td>plants</td>\n",
       "      <td>present</td>\n",
       "      <td>Abies alba Mill.</td>\n",
       "      <td>1778</td>\n",
       "    </tr>\n",
       "    <tr>\n",
       "      <th>1</th>\n",
       "      <td>Abies grandis (Douglas ex D. Don) Lindl.</td>\n",
       "      <td>2685361</td>\n",
       "      <td>Plantae</td>\n",
       "      <td>introduced</td>\n",
       "      <td>plants</td>\n",
       "      <td>present</td>\n",
       "      <td>Abies grandis (Douglas ex D. Don) Lindl.</td>\n",
       "      <td>1779</td>\n",
       "    </tr>\n",
       "    <tr>\n",
       "      <th>2</th>\n",
       "      <td>Abronia fragrans Nutt. ex Hook.</td>\n",
       "      <td>5384889</td>\n",
       "      <td>Plantae</td>\n",
       "      <td>introduced</td>\n",
       "      <td>plants</td>\n",
       "      <td>present</td>\n",
       "      <td>Abronia fragrans Nutt.</td>\n",
       "      <td>1659</td>\n",
       "    </tr>\n",
       "    <tr>\n",
       "      <th>3</th>\n",
       "      <td>Abutilon theophrasti Medik.</td>\n",
       "      <td>3152614</td>\n",
       "      <td>Plantae</td>\n",
       "      <td>unknown</td>\n",
       "      <td>plants</td>\n",
       "      <td>present</td>\n",
       "      <td>Abutilon theophrasti Medik.</td>\n",
       "      <td>1610</td>\n",
       "    </tr>\n",
       "    <tr>\n",
       "      <th>4</th>\n",
       "      <td>Acalypha indica L.</td>\n",
       "      <td>3056259</td>\n",
       "      <td>Plantae</td>\n",
       "      <td>introduced</td>\n",
       "      <td>plants</td>\n",
       "      <td>present</td>\n",
       "      <td>Acalypha indica L.</td>\n",
       "      <td>1221</td>\n",
       "    </tr>\n",
       "  </tbody>\n",
       "</table>\n",
       "</div>"
      ],
      "text/plain": [
       "             gbifapi_acceptedScientificName gbifapi_acceptedKey  kingdom  \\\n",
       "0                          Abies alba Mill.             2685484  Plantae   \n",
       "1  Abies grandis (Douglas ex D. Don) Lindl.             2685361  Plantae   \n",
       "2           Abronia fragrans Nutt. ex Hook.             5384889  Plantae   \n",
       "3               Abutilon theophrasti Medik.             3152614  Plantae   \n",
       "4                        Acalypha indica L.             3056259  Plantae   \n",
       "\n",
       "  invasionStage datasetName presenceBE  \\\n",
       "0    introduced      plants    present   \n",
       "1    introduced      plants    present   \n",
       "2    introduced      plants    present   \n",
       "3       unknown      plants    present   \n",
       "4    introduced      plants    present   \n",
       "\n",
       "                     gbifapi_scientificName index  \n",
       "0                          Abies alba Mill.  1778  \n",
       "1  Abies grandis (Douglas ex D. Don) Lindl.  1779  \n",
       "2                    Abronia fragrans Nutt.  1659  \n",
       "3               Abutilon theophrasti Medik.  1610  \n",
       "4                        Acalypha indica L.  1221  "
      ]
     },
     "execution_count": 14,
     "metadata": {},
     "output_type": "execute_result"
    }
   ],
   "source": [
    "aggregatedRecords.head()"
   ]
  },
  {
   "cell_type": "markdown",
   "metadata": {},
   "source": [
    "## Write aggregated records to file"
   ]
  },
  {
   "cell_type": "code",
   "execution_count": 15,
   "metadata": {
    "collapsed": false
   },
   "outputs": [],
   "source": [
    "aggregatedRecords.to_csv('../data/processed/aggregated-checklist.tsv', sep='\\t', index=False)"
   ]
  },
  {
   "cell_type": "code",
   "execution_count": null,
   "metadata": {
    "collapsed": true
   },
   "outputs": [],
   "source": []
  }
 ],
 "metadata": {
  "kernelspec": {
   "display_name": "Python 3",
   "language": "python",
   "name": "python3"
  },
  "language_info": {
   "codemirror_mode": {
    "name": "ipython",
    "version": 3
   },
   "file_extension": ".py",
   "mimetype": "text/x-python",
   "name": "python",
   "nbconvert_exporter": "python",
   "pygments_lexer": "ipython3",
   "version": "3.5.1"
  }
 },
 "nbformat": 4,
 "nbformat_minor": 0
}
