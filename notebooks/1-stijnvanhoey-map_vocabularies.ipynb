{
 "cells": [
  {
   "cell_type": "markdown",
   "metadata": {},
   "source": [
    "# Merge the controlled values"
   ]
  },
  {
   "cell_type": "markdown",
   "metadata": {},
   "source": [
    "This notebook provides the following functionality:\n",
    "* The controlled data should be added in existing empty columns, with the same name as the controlled vocabulary (e.g. invasionStage)\n",
    "* The mapping should be done on dataset= datasetName, verbatimValue = e.g verbatimInvasionStage\n",
    "* It would be nice to get errors if a mapping cannot be found for non-blank values..."
   ]
  },
  {
   "cell_type": "code",
   "execution_count": 27,
   "metadata": {
    "collapsed": true
   },
   "outputs": [],
   "source": [
    "import numpy as np\n",
    "import pandas as pd"
   ]
  },
  {
   "cell_type": "code",
   "execution_count": 28,
   "metadata": {
    "collapsed": false
   },
   "outputs": [],
   "source": [
    "concatenated = pd.read_csv('../data/processed/checklist.tsv', delimiter='\\t', dtype=object)"
   ]
  },
  {
   "cell_type": "markdown",
   "metadata": {},
   "source": [
    "### Single column mapping"
   ]
  },
  {
   "cell_type": "markdown",
   "metadata": {},
   "source": [
    "Writing a function for the execution of the single column mapping"
   ]
  },
  {
   "cell_type": "code",
   "execution_count": 56,
   "metadata": {
    "collapsed": true
   },
   "outputs": [],
   "source": [
    "def merge_control_vocabulary(concatenated, mapping, mappingname):\n",
    "    \"\"\"combine the controlled mapping with the names provided in the current version of the checklist\n",
    "    \"\"\"\n",
    "    merge_column = ''.join(['verbatim', ''.join([mappingname[0].upper(), mappingname[1:]])])\n",
    "    merged = pd.merge(concatenated[[\"datasetName\", merge_column]], mapping, how='left', \n",
    "         left_on=[\"datasetName\", merge_column], right_on=['dataset', 'verbatimValue'])\n",
    "    concatenated[mappingname] = merged[\"controlledValue\"]\n",
    "    return concatenated"
   ]
  },
  {
   "cell_type": "markdown",
   "metadata": {},
   "source": [
    "List with the mappings that need to be done\n",
    "(cfr. https://github.com/inbo/alien-species-checklist/issues/64):"
   ]
  },
  {
   "cell_type": "code",
   "execution_count": 57,
   "metadata": {
    "collapsed": true
   },
   "outputs": [],
   "source": [
    "mappings = ['invasionStage', 'introductionPathway', 'habitat', 'nativeRange']"
   ]
  },
  {
   "cell_type": "markdown",
   "metadata": {},
   "source": [
    "Loop over the mapping and updating the concatenated file:"
   ]
  },
  {
   "cell_type": "code",
   "execution_count": 58,
   "metadata": {
    "collapsed": false
   },
   "outputs": [
    {
     "name": "stdout",
     "output_type": "stream",
     "text": [
      "invasionStage\n",
      "introductionPathway\n",
      "habitat\n",
      "nativeRange\n"
     ]
    }
   ],
   "source": [
    "for term in mappings:\n",
    "    print(term)\n",
    "    mapping = pd.read_csv(''.join([\"../data/vocabularies/\", term, \"-mapping.tsv\"]), delimiter='\\t')\n",
    "    concatenated = merge_control_vocabulary(concatenated, mapping, term)"
   ]
  },
  {
   "cell_type": "markdown",
   "metadata": {},
   "source": [
    "### Multi-column mapping"
   ]
  },
  {
   "cell_type": "markdown",
   "metadata": {},
   "source": [
    "When N (> 1) columns need to be mapped together, the join should take into account the combined set of names:"
   ]
  },
  {
   "cell_type": "code",
   "execution_count": 36,
   "metadata": {
    "collapsed": false
   },
   "outputs": [],
   "source": [
    "term = 'presence'"
   ]
  },
  {
   "cell_type": "code",
   "execution_count": 37,
   "metadata": {
    "collapsed": false
   },
   "outputs": [],
   "source": [
    "mapping = pd.read_csv(''.join([\"../data/vocabularies/\", term, \"-mapping.tsv\"]), delimiter='\\t')"
   ]
  },
  {
   "cell_type": "code",
   "execution_count": 38,
   "metadata": {
    "collapsed": false
   },
   "outputs": [],
   "source": [
    "merge_columns = [term for term in mapping.columns if 'verbatim' in term]"
   ]
  },
  {
   "cell_type": "code",
   "execution_count": 39,
   "metadata": {
    "collapsed": true
   },
   "outputs": [],
   "source": [
    "merge_columns_mapping = [\"dataset\"] + merge_columns\n",
    "merge_columns_concat = [\"datasetName\"] + merge_columns"
   ]
  },
  {
   "cell_type": "markdown",
   "metadata": {},
   "source": [
    "Merging for the entire set of columns available in the mapping:"
   ]
  },
  {
   "cell_type": "code",
   "execution_count": 46,
   "metadata": {
    "collapsed": false
   },
   "outputs": [],
   "source": [
    "merged = pd.merge(concatenated[merge_columns_concat], mapping, how='left', \n",
    "     left_on=merge_columns_concat, right_on=merge_columns_mapping)\n"
   ]
  },
  {
   "cell_type": "code",
   "execution_count": 47,
   "metadata": {
    "collapsed": false
   },
   "outputs": [],
   "source": [
    "merge_columns_final = [''.join([term[8].lower(), term[9:]]) for term in merge_columns]\n",
    "concatenated[merge_columns_final] = merged[merge_columns_final]"
   ]
  },
  {
   "cell_type": "markdown",
   "metadata": {},
   "source": [
    "### Saving the concatenated"
   ]
  },
  {
   "cell_type": "code",
   "execution_count": 55,
   "metadata": {
    "collapsed": true
   },
   "outputs": [],
   "source": [
    "#concatenated.to_csv('../data/processed/checklist.tsv', sep='\\t', dtype=object)"
   ]
  },
  {
   "cell_type": "markdown",
   "metadata": {},
   "source": [
    "### Checkup"
   ]
  },
  {
   "cell_type": "markdown",
   "metadata": {},
   "source": [
    "Check if a mapping cannot be found for non-blank values:"
   ]
  },
  {
   "cell_type": "markdown",
   "metadata": {},
   "source": [
    "Single column mappings:"
   ]
  },
  {
   "cell_type": "code",
   "execution_count": 59,
   "metadata": {
    "collapsed": false
   },
   "outputs": [
    {
     "name": "stdout",
     "output_type": "stream",
     "text": [
      "invasionStage has 0  badly mapped values.  Great!\n",
      "introductionPathway has 0  badly mapped values.  Great!\n",
      "habitat has 0  badly mapped values.  Great!\n",
      "nativeRange has 0  badly mapped values.  Great!\n"
     ]
    }
   ],
   "source": [
    "for term in mappings:\n",
    "    number_of_unmapped = sum(concatenated['verbatimNativeRange'].notnull() & concatenated['nativeRange'].isnull())\n",
    "    if number_of_unmapped == 0:\n",
    "        message = 'Great!'\n",
    "    else:\n",
    "        message = 'Bummer'        \n",
    "    print(term, \"has\", str(number_of_unmapped), \" badly mapped values. \", message)"
   ]
  },
  {
   "cell_type": "markdown",
   "metadata": {},
   "source": [
    "Multi column mapping"
   ]
  },
  {
   "cell_type": "code",
   "execution_count": 60,
   "metadata": {
    "collapsed": false
   },
   "outputs": [
    {
     "data": {
      "text/plain": [
       "['dataset',\n",
       " 'verbatimPresenceBE',\n",
       " 'verbatimPresenceFL',\n",
       " 'verbatimPresenceWA',\n",
       " 'verbatimPresenceBR',\n",
       " 'verbatimPresenceBECoast',\n",
       " 'verbatimPresenceBPNS',\n",
       " 'verbatimPresenceBEEZ']"
      ]
     },
     "execution_count": 60,
     "metadata": {},
     "output_type": "execute_result"
    }
   ],
   "source": [
    "merge_columns_mapping"
   ]
  },
  {
   "cell_type": "code",
   "execution_count": 61,
   "metadata": {
    "collapsed": false
   },
   "outputs": [
    {
     "data": {
      "text/plain": [
       "0"
      ]
     },
     "execution_count": 61,
     "metadata": {},
     "output_type": "execute_result"
    }
   ],
   "source": [
    "sum(concatenated[merge_columns].notnull().all(axis=1) & concatenated[merge_columns_final].isnull().all(axis=1))"
   ]
  },
  {
   "cell_type": "markdown",
   "metadata": {
    "collapsed": false
   },
   "source": [
    "(if 0, mapping is succesfull)"
   ]
  }
 ],
 "metadata": {
  "kernelspec": {
   "display_name": "Python 3",
   "language": "python",
   "name": "python3"
  },
  "language_info": {
   "codemirror_mode": {
    "name": "ipython",
    "version": 3
   },
   "file_extension": ".py",
   "mimetype": "text/x-python",
   "name": "python",
   "nbconvert_exporter": "python",
   "pygments_lexer": "ipython3",
   "version": "3.5.1"
  },
  "widgets": {
   "state": {},
   "version": "1.1.2"
  }
 },
 "nbformat": 4,
 "nbformat_minor": 0
}
