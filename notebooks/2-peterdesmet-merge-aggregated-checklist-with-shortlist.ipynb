{
 "cells": [
  {
   "cell_type": "code",
   "execution_count": 1,
   "metadata": {
    "collapsed": true
   },
   "outputs": [],
   "source": [
    "import pandas as pd"
   ]
  },
  {
   "cell_type": "code",
   "execution_count": 2,
   "metadata": {
    "collapsed": false
   },
   "outputs": [],
   "source": [
    "agg_checklist = pd.read_table('../data/processed/aggregated-checklist.tsv', dtype=object)"
   ]
  },
  {
   "cell_type": "code",
   "execution_count": 3,
   "metadata": {
    "collapsed": false
   },
   "outputs": [],
   "source": [
    "shortlist = pd.read_table('../../invasive-t0-occurrences/data/vocabularies/species-list.tsv', dtype=object)"
   ]
  },
  {
   "cell_type": "markdown",
   "metadata": {},
   "source": [
    "## Filter aggregated checklist on validated names\n",
    "\n",
    "Not necessary, aggregated checklist only contains validated names"
   ]
  },
  {
   "cell_type": "markdown",
   "metadata": {},
   "source": [
    "## Filter shortlist"
   ]
  },
  {
   "cell_type": "code",
   "execution_count": 4,
   "metadata": {
    "collapsed": false
   },
   "outputs": [],
   "source": [
    "valid_shortlist = shortlist[shortlist['nameMatchValidation'].str.contains('ok')]"
   ]
  },
  {
   "cell_type": "markdown",
   "metadata": {},
   "source": [
    "## Merge shortlist with aggregated checklist"
   ]
  },
  {
   "cell_type": "code",
   "execution_count": 5,
   "metadata": {
    "collapsed": true
   },
   "outputs": [],
   "source": [
    "merged_list = pd.merge(valid_shortlist, agg_checklist, how='left', \n",
    "         left_on='gbifapi_acceptedKey', right_on='gbifapi_acceptedKey', \n",
    "         left_index=False, right_index=False, sort=True, \n",
    "         suffixes=('_shortlist', '_agg'), copy=True, indicator=False)"
   ]
  },
  {
   "cell_type": "code",
   "execution_count": 6,
   "metadata": {
    "collapsed": false
   },
   "outputs": [
    {
     "data": {
      "text/html": [
       "<div>\n",
       "<table border=\"1\" class=\"dataframe\">\n",
       "  <thead>\n",
       "    <tr style=\"text-align: right;\">\n",
       "      <th></th>\n",
       "      <th>name</th>\n",
       "      <th>kingdom_shortlist</th>\n",
       "      <th>nameMatchValidation</th>\n",
       "      <th>euConcernStatus</th>\n",
       "      <th>gbifapi_usageKey</th>\n",
       "      <th>gbifapi_scientificName_shortlist</th>\n",
       "      <th>gbifapi_canonicalName</th>\n",
       "      <th>gbifapi_status</th>\n",
       "      <th>gbifapi_rank</th>\n",
       "      <th>gbifapi_matchType</th>\n",
       "      <th>...</th>\n",
       "      <th>gbifapi_acceptedScientificName_shortlist</th>\n",
       "      <th>nbnTaxonID</th>\n",
       "      <th>NBN_scientificName</th>\n",
       "      <th>gbifapi_acceptedScientificName_agg</th>\n",
       "      <th>kingdom_agg</th>\n",
       "      <th>invasionStage</th>\n",
       "      <th>presenceBE</th>\n",
       "      <th>datasetName</th>\n",
       "      <th>gbifapi_scientificName_agg</th>\n",
       "      <th>index</th>\n",
       "    </tr>\n",
       "  </thead>\n",
       "  <tbody>\n",
       "    <tr>\n",
       "      <th>0</th>\n",
       "      <td>Vespa velutina</td>\n",
       "      <td>Animalia</td>\n",
       "      <td>ok</td>\n",
       "      <td>listed</td>\n",
       "      <td>1311477</td>\n",
       "      <td>Vespa velutina Lepeletier, 1836</td>\n",
       "      <td>Vespa velutina</td>\n",
       "      <td>ACCEPTED</td>\n",
       "      <td>SPECIES</td>\n",
       "      <td>EXACT</td>\n",
       "      <td>...</td>\n",
       "      <td>Vespa velutina Lepeletier, 1836</td>\n",
       "      <td>NaN</td>\n",
       "      <td>NaN</td>\n",
       "      <td>NaN</td>\n",
       "      <td>NaN</td>\n",
       "      <td>NaN</td>\n",
       "      <td>NaN</td>\n",
       "      <td>NaN</td>\n",
       "      <td>NaN</td>\n",
       "      <td>NaN</td>\n",
       "    </tr>\n",
       "    <tr>\n",
       "      <th>1</th>\n",
       "      <td>Eriocheir sinensis</td>\n",
       "      <td>Animalia</td>\n",
       "      <td>ok</td>\n",
       "      <td>listed</td>\n",
       "      <td>2225776</td>\n",
       "      <td>Eriocheir sinensis H. Milne Edwards, 1853</td>\n",
       "      <td>Eriocheir sinensis</td>\n",
       "      <td>ACCEPTED</td>\n",
       "      <td>SPECIES</td>\n",
       "      <td>EXACT</td>\n",
       "      <td>...</td>\n",
       "      <td>Eriocheir sinensis H. Milne Edwards, 1853</td>\n",
       "      <td>NHMSYS0001593547</td>\n",
       "      <td>Eriocheir sinensis</td>\n",
       "      <td>Eriocheir sinensis H. Milne Edwards, 1853</td>\n",
       "      <td>Animalia</td>\n",
       "      <td>established | to be determined by experts</td>\n",
       "      <td>present</td>\n",
       "      <td>macroinvertebrates | wrims</td>\n",
       "      <td>Eriocheir sinensis H. Milne Edwards, 1853</td>\n",
       "      <td>199 | 9420 | 9421 | 9422</td>\n",
       "    </tr>\n",
       "    <tr>\n",
       "      <th>2</th>\n",
       "      <td>Pacifastacus leniusculus</td>\n",
       "      <td>Animalia</td>\n",
       "      <td>ok</td>\n",
       "      <td>listed</td>\n",
       "      <td>2226990</td>\n",
       "      <td>Pacifastacus leniusculus (Dana, 1852)</td>\n",
       "      <td>Pacifastacus leniusculus</td>\n",
       "      <td>ACCEPTED</td>\n",
       "      <td>SPECIES</td>\n",
       "      <td>EXACT</td>\n",
       "      <td>...</td>\n",
       "      <td>Pacifastacus leniusculus (Dana, 1852)</td>\n",
       "      <td>NBNSYS0000036962,NHMSYS0000377494</td>\n",
       "      <td>Pacifastacus leniusculus,Pacifastacus leniusculus</td>\n",
       "      <td>Pacifastacus leniusculus (Dana, 1852)</td>\n",
       "      <td>Animalia</td>\n",
       "      <td>established</td>\n",
       "      <td>present</td>\n",
       "      <td>macroinvertebrates</td>\n",
       "      <td>Pacifastacus leniusculus (Dana, 1852)</td>\n",
       "      <td>192</td>\n",
       "    </tr>\n",
       "    <tr>\n",
       "      <th>3</th>\n",
       "      <td>Orconectes limosus</td>\n",
       "      <td>Animalia</td>\n",
       "      <td>ok</td>\n",
       "      <td>listed</td>\n",
       "      <td>2227000</td>\n",
       "      <td>Orconectes limosus (Rafinesque, 1817)</td>\n",
       "      <td>Orconectes limosus</td>\n",
       "      <td>ACCEPTED</td>\n",
       "      <td>SPECIES</td>\n",
       "      <td>EXACT</td>\n",
       "      <td>...</td>\n",
       "      <td>Orconectes limosus (Rafinesque, 1817)</td>\n",
       "      <td>NHMSYS0001593792</td>\n",
       "      <td>Orconectes limosus</td>\n",
       "      <td>Orconectes limosus (Rafinesque, 1817)</td>\n",
       "      <td>Animalia</td>\n",
       "      <td>established</td>\n",
       "      <td>present</td>\n",
       "      <td>macroinvertebrates | wrims</td>\n",
       "      <td>Orconectes limosus (Rafinesque, 1817)</td>\n",
       "      <td>195 | 9490</td>\n",
       "    </tr>\n",
       "    <tr>\n",
       "      <th>4</th>\n",
       "      <td>Orconectes virilis</td>\n",
       "      <td>Animalia</td>\n",
       "      <td>ok</td>\n",
       "      <td>listed</td>\n",
       "      <td>2227064</td>\n",
       "      <td>Orconectes virilis (Hagen, 1870)</td>\n",
       "      <td>Orconectes virilis</td>\n",
       "      <td>ACCEPTED</td>\n",
       "      <td>SPECIES</td>\n",
       "      <td>EXACT</td>\n",
       "      <td>...</td>\n",
       "      <td>Orconectes virilis (Hagen, 1870)</td>\n",
       "      <td>INBSYS0000045066</td>\n",
       "      <td>Orconectes virilis</td>\n",
       "      <td>NaN</td>\n",
       "      <td>NaN</td>\n",
       "      <td>NaN</td>\n",
       "      <td>NaN</td>\n",
       "      <td>NaN</td>\n",
       "      <td>NaN</td>\n",
       "      <td>NaN</td>\n",
       "    </tr>\n",
       "  </tbody>\n",
       "</table>\n",
       "<p>5 rows × 22 columns</p>\n",
       "</div>"
      ],
      "text/plain": [
       "                       name kingdom_shortlist nameMatchValidation  \\\n",
       "0            Vespa velutina          Animalia                  ok   \n",
       "1        Eriocheir sinensis          Animalia                  ok   \n",
       "2  Pacifastacus leniusculus          Animalia                  ok   \n",
       "3        Orconectes limosus          Animalia                  ok   \n",
       "4        Orconectes virilis          Animalia                  ok   \n",
       "\n",
       "  euConcernStatus gbifapi_usageKey           gbifapi_scientificName_shortlist  \\\n",
       "0          listed          1311477            Vespa velutina Lepeletier, 1836   \n",
       "1          listed          2225776  Eriocheir sinensis H. Milne Edwards, 1853   \n",
       "2          listed          2226990      Pacifastacus leniusculus (Dana, 1852)   \n",
       "3          listed          2227000      Orconectes limosus (Rafinesque, 1817)   \n",
       "4          listed          2227064           Orconectes virilis (Hagen, 1870)   \n",
       "\n",
       "      gbifapi_canonicalName gbifapi_status gbifapi_rank gbifapi_matchType  \\\n",
       "0            Vespa velutina       ACCEPTED      SPECIES             EXACT   \n",
       "1        Eriocheir sinensis       ACCEPTED      SPECIES             EXACT   \n",
       "2  Pacifastacus leniusculus       ACCEPTED      SPECIES             EXACT   \n",
       "3        Orconectes limosus       ACCEPTED      SPECIES             EXACT   \n",
       "4        Orconectes virilis       ACCEPTED      SPECIES             EXACT   \n",
       "\n",
       "             ...              gbifapi_acceptedScientificName_shortlist  \\\n",
       "0            ...                       Vespa velutina Lepeletier, 1836   \n",
       "1            ...             Eriocheir sinensis H. Milne Edwards, 1853   \n",
       "2            ...                 Pacifastacus leniusculus (Dana, 1852)   \n",
       "3            ...                 Orconectes limosus (Rafinesque, 1817)   \n",
       "4            ...                      Orconectes virilis (Hagen, 1870)   \n",
       "\n",
       "                          nbnTaxonID  \\\n",
       "0                                NaN   \n",
       "1                   NHMSYS0001593547   \n",
       "2  NBNSYS0000036962,NHMSYS0000377494   \n",
       "3                   NHMSYS0001593792   \n",
       "4                   INBSYS0000045066   \n",
       "\n",
       "                                  NBN_scientificName  \\\n",
       "0                                                NaN   \n",
       "1                                 Eriocheir sinensis   \n",
       "2  Pacifastacus leniusculus,Pacifastacus leniusculus   \n",
       "3                                 Orconectes limosus   \n",
       "4                                 Orconectes virilis   \n",
       "\n",
       "          gbifapi_acceptedScientificName_agg kingdom_agg  \\\n",
       "0                                        NaN         NaN   \n",
       "1  Eriocheir sinensis H. Milne Edwards, 1853    Animalia   \n",
       "2      Pacifastacus leniusculus (Dana, 1852)    Animalia   \n",
       "3      Orconectes limosus (Rafinesque, 1817)    Animalia   \n",
       "4                                        NaN         NaN   \n",
       "\n",
       "                               invasionStage presenceBE  \\\n",
       "0                                        NaN        NaN   \n",
       "1  established | to be determined by experts    present   \n",
       "2                                established    present   \n",
       "3                                established    present   \n",
       "4                                        NaN        NaN   \n",
       "\n",
       "                  datasetName                 gbifapi_scientificName_agg  \\\n",
       "0                         NaN                                        NaN   \n",
       "1  macroinvertebrates | wrims  Eriocheir sinensis H. Milne Edwards, 1853   \n",
       "2          macroinvertebrates      Pacifastacus leniusculus (Dana, 1852)   \n",
       "3  macroinvertebrates | wrims      Orconectes limosus (Rafinesque, 1817)   \n",
       "4                         NaN                                        NaN   \n",
       "\n",
       "                      index  \n",
       "0                       NaN  \n",
       "1  199 | 9420 | 9421 | 9422  \n",
       "2                       192  \n",
       "3                195 | 9490  \n",
       "4                       NaN  \n",
       "\n",
       "[5 rows x 22 columns]"
      ]
     },
     "execution_count": 6,
     "metadata": {},
     "output_type": "execute_result"
    }
   ],
   "source": [
    "merged_list.head()"
   ]
  },
  {
   "cell_type": "markdown",
   "metadata": {},
   "source": [
    "## Missing names in aggregated checklist"
   ]
  },
  {
   "cell_type": "code",
   "execution_count": 9,
   "metadata": {
    "collapsed": false
   },
   "outputs": [],
   "source": [
    "missing_names = merged_list[merged_list['index'].isnull()]"
   ]
  },
  {
   "cell_type": "code",
   "execution_count": 11,
   "metadata": {
    "collapsed": false
   },
   "outputs": [
    {
     "data": {
      "text/plain": [
       "31"
      ]
     },
     "execution_count": 11,
     "metadata": {},
     "output_type": "execute_result"
    }
   ],
   "source": [
    "len(missing_names)"
   ]
  },
  {
   "cell_type": "code",
   "execution_count": 12,
   "metadata": {
    "collapsed": false
   },
   "outputs": [
    {
     "data": {
      "text/plain": [
       "0                   Vespa velutina\n",
       "4               Orconectes virilis\n",
       "6                Didemnum vexillum\n",
       "7                   Ameiurus melas\n",
       "12                     Nasua nasua\n",
       "14             Herpestes javanicus\n",
       "20                     Bison bison\n",
       "23                Corvus splendens\n",
       "26             Pennisetum setaceum\n",
       "31      Lysichiton camtschatcensis\n",
       "39                Pueraria montana\n",
       "40               Gunnera tinctoria\n",
       "41          Cotoneaster villosulus\n",
       "51              Cotoneaster mairei\n",
       "57             Cotoneaster lucidus\n",
       "59             Cotoneaster hylmoei\n",
       "65           Cotoneaster boisianus\n",
       "68             Spiraea salicifolia\n",
       "71          Parthenocissus inserta\n",
       "74     Alternanthera philoxeroides\n",
       "85               Oenothera affinis\n",
       "96              Heracleum persicum\n",
       "106          Persicaria perfoliata\n",
       "110          Impatiens edgeworthii\n",
       "113           Micropterus dolomieu\n",
       "118          Microstegium vimineum\n",
       "130             Homarus americanus\n",
       "131             Oenothera depressa\n",
       "132          Solanum eleagnifolium\n",
       "141      Cotoneaster integrifolius\n",
       "144               Gunnera manicata\n",
       "Name: name, dtype: object"
      ]
     },
     "execution_count": 12,
     "metadata": {},
     "output_type": "execute_result"
    }
   ],
   "source": [
    "missing_names['name']"
   ]
  },
  {
   "cell_type": "markdown",
   "metadata": {},
   "source": [
    "Remark by Tim:\n",
    "\n",
    "> Looks OK, most of the species above do not occur in Belgium, except for `Vespa velutina`."
   ]
  },
  {
   "cell_type": "code",
   "execution_count": null,
   "metadata": {
    "collapsed": true
   },
   "outputs": [],
   "source": []
  }
 ],
 "metadata": {
  "kernelspec": {
   "display_name": "Python 3",
   "language": "python",
   "name": "python3"
  },
  "language_info": {
   "codemirror_mode": {
    "name": "ipython",
    "version": 3
   },
   "file_extension": ".py",
   "mimetype": "text/x-python",
   "name": "python",
   "nbconvert_exporter": "python",
   "pygments_lexer": "ipython3",
   "version": "3.5.1"
  }
 },
 "nbformat": 4,
 "nbformat_minor": 0
}
