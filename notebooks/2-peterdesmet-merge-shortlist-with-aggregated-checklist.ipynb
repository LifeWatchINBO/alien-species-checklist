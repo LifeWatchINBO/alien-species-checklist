{
 "cells": [
  {
   "cell_type": "code",
   "execution_count": 10,
   "metadata": {
    "collapsed": true
   },
   "outputs": [],
   "source": [
    "import pandas as pd"
   ]
  },
  {
   "cell_type": "code",
   "execution_count": 11,
   "metadata": {
    "collapsed": false
   },
   "outputs": [],
   "source": [
    "agg_checklist = pd.read_table('../data/processed/aggregated-checklist.tsv', dtype=object)"
   ]
  },
  {
   "cell_type": "code",
   "execution_count": 12,
   "metadata": {
    "collapsed": false
   },
   "outputs": [],
   "source": [
    "shortlist = pd.read_table('../../invasive-t0-occurrences/data/vocabularies/species-list.tsv', dtype=object)"
   ]
  },
  {
   "cell_type": "markdown",
   "metadata": {},
   "source": [
    "## Filter aggregated checklist on validated names\n",
    "\n",
    "Not necessary, aggregated checklist only contains validated names"
   ]
  },
  {
   "cell_type": "markdown",
   "metadata": {},
   "source": [
    "## Filter shortlist on validated names"
   ]
  },
  {
   "cell_type": "code",
   "execution_count": 13,
   "metadata": {
    "collapsed": false
   },
   "outputs": [],
   "source": [
    "verified_shortlist = shortlist[shortlist['nameMatchValidation'].str.contains('^ok', regex=True)]"
   ]
  },
  {
   "cell_type": "markdown",
   "metadata": {},
   "source": [
    "## Merge shortlist with aggregated checklist"
   ]
  },
  {
   "cell_type": "code",
   "execution_count": 14,
   "metadata": {
    "collapsed": true
   },
   "outputs": [],
   "source": [
    "shortlist_with_agg = pd.merge(verified_shortlist, agg_checklist, how='left', \n",
    "         left_on='gbifapi_acceptedKey', right_on='gbifapi_acceptedKey', \n",
    "         left_index=False, right_index=False, sort=True, \n",
    "         suffixes=('_shortlist', '_agg'), copy=True, indicator=False)"
   ]
  },
  {
   "cell_type": "code",
   "execution_count": 15,
   "metadata": {
    "collapsed": false
   },
   "outputs": [
    {
     "data": {
      "text/html": [
       "<div>\n",
       "<table border=\"1\" class=\"dataframe\">\n",
       "  <thead>\n",
       "    <tr style=\"text-align: right;\">\n",
       "      <th></th>\n",
       "      <th>name</th>\n",
       "      <th>kingdom_shortlist</th>\n",
       "      <th>nameMatchValidation</th>\n",
       "      <th>euConcernStatus_shortlist</th>\n",
       "      <th>gbifapi_usageKey</th>\n",
       "      <th>gbifapi_scientificName_shortlist</th>\n",
       "      <th>gbifapi_canonicalName</th>\n",
       "      <th>gbifapi_status</th>\n",
       "      <th>gbifapi_rank</th>\n",
       "      <th>gbifapi_matchType</th>\n",
       "      <th>...</th>\n",
       "      <th>invasionStage</th>\n",
       "      <th>habitat</th>\n",
       "      <th>nativeRange</th>\n",
       "      <th>introductionPathway</th>\n",
       "      <th>presenceBE</th>\n",
       "      <th>presenceFL</th>\n",
       "      <th>presenceWA</th>\n",
       "      <th>presenceBR</th>\n",
       "      <th>gbifapi_scientificName_agg</th>\n",
       "      <th>index</th>\n",
       "    </tr>\n",
       "  </thead>\n",
       "  <tbody>\n",
       "    <tr>\n",
       "      <th>0</th>\n",
       "      <td>Vespa velutina</td>\n",
       "      <td>Animalia</td>\n",
       "      <td>ok</td>\n",
       "      <td>listed</td>\n",
       "      <td>1311477</td>\n",
       "      <td>Vespa velutina Lepeletier, 1836</td>\n",
       "      <td>Vespa velutina</td>\n",
       "      <td>ACCEPTED</td>\n",
       "      <td>SPECIES</td>\n",
       "      <td>EXACT</td>\n",
       "      <td>...</td>\n",
       "      <td>NaN</td>\n",
       "      <td>NaN</td>\n",
       "      <td>NaN</td>\n",
       "      <td>NaN</td>\n",
       "      <td>NaN</td>\n",
       "      <td>NaN</td>\n",
       "      <td>NaN</td>\n",
       "      <td>NaN</td>\n",
       "      <td>Vespa velutina Lepeletier, 1836</td>\n",
       "      <td>9703</td>\n",
       "    </tr>\n",
       "    <tr>\n",
       "      <th>1</th>\n",
       "      <td>Eriocheir sinensis</td>\n",
       "      <td>Animalia</td>\n",
       "      <td>ok</td>\n",
       "      <td>listed</td>\n",
       "      <td>2225776</td>\n",
       "      <td>Eriocheir sinensis H. Milne Edwards, 1853</td>\n",
       "      <td>Eriocheir sinensis</td>\n",
       "      <td>ACCEPTED</td>\n",
       "      <td>SPECIES</td>\n",
       "      <td>EXACT</td>\n",
       "      <td>...</td>\n",
       "      <td>established | to be determined by experts</td>\n",
       "      <td>freshwater | estuarine | to be determined by e...</td>\n",
       "      <td>Asia | to be determined by experts</td>\n",
       "      <td>stowaway &gt; to be determined by experts | to be...</td>\n",
       "      <td>present</td>\n",
       "      <td>present</td>\n",
       "      <td>to be determined by experts</td>\n",
       "      <td>to be determined by experts</td>\n",
       "      <td>Eriocheir sinensis H. Milne Edwards, 1853</td>\n",
       "      <td>199 | 9420 | 9421 | 9422 | 9599</td>\n",
       "    </tr>\n",
       "    <tr>\n",
       "      <th>2</th>\n",
       "      <td>Pacifastacus leniusculus</td>\n",
       "      <td>Animalia</td>\n",
       "      <td>ok</td>\n",
       "      <td>listed</td>\n",
       "      <td>2226990</td>\n",
       "      <td>Pacifastacus leniusculus (Dana, 1852)</td>\n",
       "      <td>Pacifastacus leniusculus</td>\n",
       "      <td>ACCEPTED</td>\n",
       "      <td>SPECIES</td>\n",
       "      <td>EXACT</td>\n",
       "      <td>...</td>\n",
       "      <td>established</td>\n",
       "      <td>freshwater</td>\n",
       "      <td>N. America</td>\n",
       "      <td>escape &gt; aquaculture / mariculture</td>\n",
       "      <td>present</td>\n",
       "      <td>present</td>\n",
       "      <td>to be determined by experts</td>\n",
       "      <td>to be determined by experts</td>\n",
       "      <td>Pacifastacus leniusculus (Dana, 1852)</td>\n",
       "      <td>192 | 9671</td>\n",
       "    </tr>\n",
       "    <tr>\n",
       "      <th>3</th>\n",
       "      <td>Orconectes limosus</td>\n",
       "      <td>Animalia</td>\n",
       "      <td>ok</td>\n",
       "      <td>listed</td>\n",
       "      <td>2227000</td>\n",
       "      <td>Orconectes limosus (Rafinesque, 1817)</td>\n",
       "      <td>Orconectes limosus</td>\n",
       "      <td>ACCEPTED</td>\n",
       "      <td>SPECIES</td>\n",
       "      <td>EXACT</td>\n",
       "      <td>...</td>\n",
       "      <td>established</td>\n",
       "      <td>freshwater | to be determined by experts, prim...</td>\n",
       "      <td>N. America | to be determined by experts</td>\n",
       "      <td>escape &gt; aquaculture / mariculture | escape &gt; ...</td>\n",
       "      <td>present</td>\n",
       "      <td>present</td>\n",
       "      <td>to be determined by experts</td>\n",
       "      <td>to be determined by experts</td>\n",
       "      <td>Orconectes limosus (Rafinesque, 1817)</td>\n",
       "      <td>195 | 9490 | 9668</td>\n",
       "    </tr>\n",
       "    <tr>\n",
       "      <th>4</th>\n",
       "      <td>Orconectes virilis</td>\n",
       "      <td>Animalia</td>\n",
       "      <td>ok</td>\n",
       "      <td>listed</td>\n",
       "      <td>2227064</td>\n",
       "      <td>Orconectes virilis (Hagen, 1870)</td>\n",
       "      <td>Orconectes virilis</td>\n",
       "      <td>ACCEPTED</td>\n",
       "      <td>SPECIES</td>\n",
       "      <td>EXACT</td>\n",
       "      <td>...</td>\n",
       "      <td>NaN</td>\n",
       "      <td>NaN</td>\n",
       "      <td>NaN</td>\n",
       "      <td>NaN</td>\n",
       "      <td>NaN</td>\n",
       "      <td>NaN</td>\n",
       "      <td>NaN</td>\n",
       "      <td>NaN</td>\n",
       "      <td>Orconectes virilis (Hagen, 1870)</td>\n",
       "      <td>9669</td>\n",
       "    </tr>\n",
       "  </tbody>\n",
       "</table>\n",
       "<p>5 rows × 31 columns</p>\n",
       "</div>"
      ],
      "text/plain": [
       "                       name kingdom_shortlist nameMatchValidation  \\\n",
       "0            Vespa velutina          Animalia                  ok   \n",
       "1        Eriocheir sinensis          Animalia                  ok   \n",
       "2  Pacifastacus leniusculus          Animalia                  ok   \n",
       "3        Orconectes limosus          Animalia                  ok   \n",
       "4        Orconectes virilis          Animalia                  ok   \n",
       "\n",
       "  euConcernStatus_shortlist gbifapi_usageKey  \\\n",
       "0                    listed          1311477   \n",
       "1                    listed          2225776   \n",
       "2                    listed          2226990   \n",
       "3                    listed          2227000   \n",
       "4                    listed          2227064   \n",
       "\n",
       "            gbifapi_scientificName_shortlist     gbifapi_canonicalName  \\\n",
       "0            Vespa velutina Lepeletier, 1836            Vespa velutina   \n",
       "1  Eriocheir sinensis H. Milne Edwards, 1853        Eriocheir sinensis   \n",
       "2      Pacifastacus leniusculus (Dana, 1852)  Pacifastacus leniusculus   \n",
       "3      Orconectes limosus (Rafinesque, 1817)        Orconectes limosus   \n",
       "4           Orconectes virilis (Hagen, 1870)        Orconectes virilis   \n",
       "\n",
       "  gbifapi_status gbifapi_rank gbifapi_matchType  \\\n",
       "0       ACCEPTED      SPECIES             EXACT   \n",
       "1       ACCEPTED      SPECIES             EXACT   \n",
       "2       ACCEPTED      SPECIES             EXACT   \n",
       "3       ACCEPTED      SPECIES             EXACT   \n",
       "4       ACCEPTED      SPECIES             EXACT   \n",
       "\n",
       "                ...                                             invasionStage  \\\n",
       "0               ...                                                       NaN   \n",
       "1               ...                 established | to be determined by experts   \n",
       "2               ...                                               established   \n",
       "3               ...                                               established   \n",
       "4               ...                                                       NaN   \n",
       "\n",
       "                                             habitat  \\\n",
       "0                                                NaN   \n",
       "1  freshwater | estuarine | to be determined by e...   \n",
       "2                                         freshwater   \n",
       "3  freshwater | to be determined by experts, prim...   \n",
       "4                                                NaN   \n",
       "\n",
       "                                nativeRange  \\\n",
       "0                                       NaN   \n",
       "1        Asia | to be determined by experts   \n",
       "2                                N. America   \n",
       "3  N. America | to be determined by experts   \n",
       "4                                       NaN   \n",
       "\n",
       "                                 introductionPathway presenceBE presenceFL  \\\n",
       "0                                                NaN        NaN        NaN   \n",
       "1  stowaway > to be determined by experts | to be...    present    present   \n",
       "2                 escape > aquaculture / mariculture    present    present   \n",
       "3  escape > aquaculture / mariculture | escape > ...    present    present   \n",
       "4                                                NaN        NaN        NaN   \n",
       "\n",
       "                    presenceWA                   presenceBR  \\\n",
       "0                          NaN                          NaN   \n",
       "1  to be determined by experts  to be determined by experts   \n",
       "2  to be determined by experts  to be determined by experts   \n",
       "3  to be determined by experts  to be determined by experts   \n",
       "4                          NaN                          NaN   \n",
       "\n",
       "                  gbifapi_scientificName_agg                            index  \n",
       "0            Vespa velutina Lepeletier, 1836                             9703  \n",
       "1  Eriocheir sinensis H. Milne Edwards, 1853  199 | 9420 | 9421 | 9422 | 9599  \n",
       "2      Pacifastacus leniusculus (Dana, 1852)                       192 | 9671  \n",
       "3      Orconectes limosus (Rafinesque, 1817)                195 | 9490 | 9668  \n",
       "4           Orconectes virilis (Hagen, 1870)                             9669  \n",
       "\n",
       "[5 rows x 31 columns]"
      ]
     },
     "execution_count": 15,
     "metadata": {},
     "output_type": "execute_result"
    }
   ],
   "source": [
    "shortlist_with_agg.head()"
   ]
  },
  {
   "cell_type": "markdown",
   "metadata": {},
   "source": [
    "## Missing names in aggregated checklist"
   ]
  },
  {
   "cell_type": "code",
   "execution_count": 16,
   "metadata": {
    "collapsed": false
   },
   "outputs": [],
   "source": [
    "missing_names = shortlist_with_agg[shortlist_with_agg['index'].isnull()]"
   ]
  },
  {
   "cell_type": "code",
   "execution_count": 17,
   "metadata": {
    "collapsed": false
   },
   "outputs": [
    {
     "data": {
      "text/plain": [
       "0"
      ]
     },
     "execution_count": 17,
     "metadata": {},
     "output_type": "execute_result"
    }
   ],
   "source": [
    "len(missing_names)"
   ]
  },
  {
   "cell_type": "markdown",
   "metadata": {},
   "source": [
    "All verified shortlist records are now part of the aggregated checklist."
   ]
  },
  {
   "cell_type": "code",
   "execution_count": null,
   "metadata": {
    "collapsed": true
   },
   "outputs": [],
   "source": []
  }
 ],
 "metadata": {
  "kernelspec": {
   "display_name": "Python 3",
   "language": "python",
   "name": "python3"
  },
  "language_info": {
   "codemirror_mode": {
    "name": "ipython",
    "version": 3
   },
   "file_extension": ".py",
   "mimetype": "text/x-python",
   "name": "python",
   "nbconvert_exporter": "python",
   "pygments_lexer": "ipython3",
   "version": "3.5.1"
  }
 },
 "nbformat": 4,
 "nbformat_minor": 0
}
