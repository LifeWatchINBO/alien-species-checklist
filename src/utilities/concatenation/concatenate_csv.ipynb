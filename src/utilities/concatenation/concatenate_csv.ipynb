{
 "cells": [
  {
   "cell_type": "markdown",
   "metadata": {},
   "source": [
    "## Concatenate cvs-files with similar column names"
   ]
  },
  {
   "cell_type": "markdown",
   "metadata": {},
   "source": [
    "### Example"
   ]
  },
  {
   "cell_type": "markdown",
   "metadata": {},
   "source": [
    "Consider the following example, which exists of two small .tsv files with the same headers:"
   ]
  },
  {
   "cell_type": "code",
   "execution_count": 1,
   "metadata": {
    "collapsed": false
   },
   "outputs": [
    {
     "name": "stdout",
     "output_type": "stream",
     "text": [
      "Title 1\tTitle 2\tTitle 3\r\n",
      "1\ta\t08/18/07\r\n",
      "2\tb\t08/19/07\r\n",
      "3\tc\t08/20/07\r\n"
     ]
    }
   ],
   "source": [
    "# FILE 1:\n",
    "!cat testdata1.tsv"
   ]
  },
  {
   "cell_type": "code",
   "execution_count": 2,
   "metadata": {
    "collapsed": false
   },
   "outputs": [
    {
     "name": "stdout",
     "output_type": "stream",
     "text": [
      "Title 1\tTitle 2\tTitle 3\r\n",
      "40\tD\t08/21/07\r\n",
      "50\tE\t08/22/07\r\n",
      "60\tF\t08/23/07\r\n"
     ]
    }
   ],
   "source": [
    "# FILE 2:\n",
    "!cat testdata2.tsv"
   ]
  },
  {
   "cell_type": "markdown",
   "metadata": {},
   "source": [
    "We want to concatenate these two files, keeping the headers of the first file only. We could do this in linux command line, but this looks not really easy to handle (so, just as showcase):"
   ]
  },
  {
   "cell_type": "code",
   "execution_count": 3,
   "metadata": {
    "collapsed": false
   },
   "outputs": [
    {
     "name": "stdout",
     "output_type": "stream",
     "text": [
      "Title 1\tTitle 2\tTitle 3\r\n",
      "1\ta\t08/18/07\r\n",
      "2\tb\t08/19/07\r\n",
      "3\tc\t08/20/07\r\n",
      "40\tD\t08/21/07\r\n",
      "50\tE\t08/22/07\r\n",
      "60\tF\t08/23/07\r\n"
     ]
    }
   ],
   "source": [
    "! cat testdata1.tsv > concatenated.tsv\n",
    "! tail -n +2 testdata2.tsv >> concatenated.tsv\n",
    "! cat concatenated.tsv"
   ]
  },
  {
   "cell_type": "markdown",
   "metadata": {},
   "source": [
    "### Python implementation"
   ]
  },
  {
   "cell_type": "markdown",
   "metadata": {},
   "source": [
    "https://github.com/dhellmann/csvcat is already existing and can be used for this purpose, with the possibility to skip the headers already implemented as follows :"
   ]
  },
  {
   "cell_type": "code",
   "execution_count": 4,
   "metadata": {
    "collapsed": false
   },
   "outputs": [
    {
     "name": "stdout",
     "output_type": "stream",
     "text": [
      "Title 1\tTitle 2\tTitle 3\r",
      "\r\n",
      "1\ta\t08/18/07\r",
      "\r\n",
      "2\tb\t08/19/07\r",
      "\r\n",
      "3\tc\t08/20/07\r",
      "\r\n",
      "40\tD\t08/21/07\r",
      "\r\n",
      "50\tE\t08/22/07\r",
      "\r\n",
      "60\tF\t08/23/07\r",
      "\r\n",
      "1\ta\t08/18/07\r",
      "\r\n",
      "2\tb\t08/19/07\r",
      "\r\n",
      "3\tc\t08/20/07\r",
      "\r\n"
     ]
    }
   ],
   "source": [
    "!csvcat --skip-headers testdata1.tsv testdata2.tsv testdata1.tsv"
   ]
  },
  {
   "cell_type": "markdown",
   "metadata": {},
   "source": [
    "To write it to a file, we have to specify a output file:"
   ]
  },
  {
   "cell_type": "code",
   "execution_count": 5,
   "metadata": {
    "collapsed": false
   },
   "outputs": [],
   "source": [
    "!csvcat --skip-headers testdata1.tsv testdata2.tsv testdata1.tsv > concatenated_file.tsv"
   ]
  },
  {
   "cell_type": "markdown",
   "metadata": {},
   "source": [
    "(remark that the `!` before the command is only added here to make it a command line feature from within this notebook environment, so do not add it when using the command line, aka *black screen*)"
   ]
  },
  {
   "cell_type": "markdown",
   "metadata": {},
   "source": [
    "### Manual"
   ]
  },
  {
   "cell_type": "markdown",
   "metadata": {},
   "source": [
    "#### Running the tool"
   ]
  },
  {
   "cell_type": "markdown",
   "metadata": {
    "collapsed": false
   },
   "source": [
    "To use the package for our purpose, we need to consider following elements:\n",
    "* put the files together in a folder\n",
    "* run the command on the command line with the appropriate file names and output to a file bringing it together:\n",
    "    ```\n",
    "    csvcat --skip-headers filename1 filename2 filename3 filename4 filename5  > concatented_file.tsv\n",
    "    ```"
   ]
  },
  {
   "cell_type": "markdown",
   "metadata": {
    "collapsed": true
   },
   "source": [
    "This should do the job!"
   ]
  },
  {
   "cell_type": "markdown",
   "metadata": {},
   "source": [
    "#### Installation on windows - current workflow"
   ]
  },
  {
   "cell_type": "markdown",
   "metadata": {},
   "source": [
    "* Install miniconda, python 3.5: http://conda.pydata.org/miniconda.html\n",
    "* create a conda environment (or use the general/root environment) to install the `csvcat` tool:\n",
    "    * Just type in the command line:\n",
    "                ```\n",
    "                pip install csvcat\n",
    "                ```\n",
    "        \n",
    "    * Following is not needed anymore, pypi is updated:\n",
    "        * go to https://github.com/dhellmann/csvcat or the fork https://github.com/stijnvanhoey/csvcat\n",
    "        * download the code (`git clone` or download as a zip-file), remark: *do not use pip install, because pypi not updated yet*\n",
    "        * on the command line, from **within** the folder with the code, type on the command line:\n",
    "            ```\n",
    "            python setup.py install\n",
    "            ```"
   ]
  },
  {
   "cell_type": "code",
   "execution_count": null,
   "metadata": {
    "collapsed": true
   },
   "outputs": [],
   "source": []
  }
 ],
 "metadata": {
  "kernelspec": {
   "display_name": "Python 3",
   "language": "python",
   "name": "python3"
  },
  "language_info": {
   "codemirror_mode": {
    "name": "ipython",
    "version": 3
   },
   "file_extension": ".py",
   "mimetype": "text/x-python",
   "name": "python",
   "nbconvert_exporter": "python",
   "pygments_lexer": "ipython3",
   "version": "3.5.1"
  }
 },
 "nbformat": 4,
 "nbformat_minor": 0
}
