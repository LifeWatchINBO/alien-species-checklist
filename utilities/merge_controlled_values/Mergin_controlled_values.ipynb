{
 "cells": [
  {
   "cell_type": "markdown",
   "metadata": {},
   "source": [
    "# Merge the controlled values"
   ]
  },
  {
   "cell_type": "code",
   "execution_count": 228,
   "metadata": {
    "collapsed": true
   },
   "outputs": [],
   "source": [
    "import numpy as np\n",
    "import pandas as pd"
   ]
  },
  {
   "cell_type": "code",
   "execution_count": 229,
   "metadata": {
    "collapsed": true
   },
   "outputs": [],
   "source": [
    "concatenated = pd.read_csv('../../data/concatenated.tsv', delimiter='\\t', dtype=object)"
   ]
  },
  {
   "cell_type": "markdown",
   "metadata": {},
   "source": [
    "### single column mapping"
   ]
  },
  {
   "cell_type": "markdown",
   "metadata": {},
   "source": [
    "Writing a function for the executio of the single column mapping"
   ]
  },
  {
   "cell_type": "code",
   "execution_count": 233,
   "metadata": {
    "collapsed": true
   },
   "outputs": [],
   "source": [
    "def merge_control_vocabulary(concatenated, mapping, mappingname):\n",
    "    \"\"\"\n",
    "    \"\"\"\n",
    "    merge_column = ''.join(['verbatim', ''.join([mappingname[0].upper(), mappingname[1:]])])\n",
    "    merged = pd.merge(concatenated[[\"datasetName\", merge_column]], mapping, how='left', \n",
    "         left_on=[\"datasetName\", merge_column], right_on=['dataset', 'verbatimValue'])\n",
    "    concatenated[mappingname] = merged[\"controlledValue\"]\n",
    "    return concatenated"
   ]
  },
  {
   "cell_type": "markdown",
   "metadata": {},
   "source": [
    "List with the mappings that need to be done:"
   ]
  },
  {
   "cell_type": "code",
   "execution_count": 234,
   "metadata": {
    "collapsed": true
   },
   "outputs": [],
   "source": [
    "mappings = ['invasionStage', 'introductionPathway', 'habitat', 'nativeRange']"
   ]
  },
  {
   "cell_type": "markdown",
   "metadata": {},
   "source": [
    "loop over the mapping and updating the concatenated file:"
   ]
  },
  {
   "cell_type": "code",
   "execution_count": 236,
   "metadata": {
    "collapsed": false
   },
   "outputs": [
    {
     "name": "stdout",
     "output_type": "stream",
     "text": [
      "invasionStage\n",
      "introductionPathway\n",
      "habitat\n",
      "nativeRange\n"
     ]
    }
   ],
   "source": [
    "for term in mappings:\n",
    "    print(term)\n",
    "    mapping = pd.read_csv(''.join([\"../../vocabularies/\", term, \"-mapping.tsv\"]), delimiter='\\t')\n",
    "    concatenated = merge_control_vocabulary(concatenated, mapping, term)"
   ]
  },
  {
   "cell_type": "markdown",
   "metadata": {},
   "source": [
    "### multi-column mapping"
   ]
  },
  {
   "cell_type": "code",
   "execution_count": 238,
   "metadata": {
    "collapsed": false
   },
   "outputs": [],
   "source": [
    "term = 'presence'"
   ]
  },
  {
   "cell_type": "code",
   "execution_count": 239,
   "metadata": {
    "collapsed": true
   },
   "outputs": [],
   "source": [
    "mapping = pd.read_csv(''.join([\"../../vocabularies/\", term, \"-mapping.tsv\"]), delimiter='\\t')"
   ]
  },
  {
   "cell_type": "code",
   "execution_count": 240,
   "metadata": {
    "collapsed": false
   },
   "outputs": [],
   "source": [
    "merge_columns = [term for term in mapping.columns if 'verbatim' in term]"
   ]
  },
  {
   "cell_type": "code",
   "execution_count": 241,
   "metadata": {
    "collapsed": true
   },
   "outputs": [],
   "source": [
    "merge_columns_mapping = [\"dataset\"] + merge_columns\n",
    "merge_columns_concat = [\"datasetName\"] + merge_columns"
   ]
  },
  {
   "cell_type": "code",
   "execution_count": 243,
   "metadata": {
    "collapsed": false
   },
   "outputs": [],
   "source": [
    "merge_column = ''.join(['verbatim', ''.join([mappingname[0].upper(), mappingname[1:]])])\n",
    "merged = pd.merge(concatenated[merge_columns_concat], mapping, how='left', \n",
    "     left_on=merge_columns_concat, right_on=merge_columns_mapping)\n"
   ]
  },
  {
   "cell_type": "code",
   "execution_count": 245,
   "metadata": {
    "collapsed": true
   },
   "outputs": [],
   "source": [
    "merge_columns_final = [''.join([term[8].lower(), term[9:]]) for term in merge_columns]\n",
    "concatenated[merge_columns_final] = merged[merge_columns_final]"
   ]
  },
  {
   "cell_type": "markdown",
   "metadata": {},
   "source": [
    "### Saving the concatenated"
   ]
  },
  {
   "cell_type": "code",
   "execution_count": 256,
   "metadata": {
    "collapsed": true
   },
   "outputs": [],
   "source": [
    "concatenated.to_csv('../../data/concatenated.tsv', delimiter='\\t', dtype=object)"
   ]
  },
  {
   "cell_type": "markdown",
   "metadata": {},
   "source": [
    "### checkup"
   ]
  },
  {
   "cell_type": "markdown",
   "metadata": {},
   "source": [
    "Single column mappings:"
   ]
  },
  {
   "cell_type": "code",
   "execution_count": 285,
   "metadata": {
    "collapsed": false
   },
   "outputs": [
    {
     "name": "stdout",
     "output_type": "stream",
     "text": [
      "invasionStage has 0  badly mapped values.  Great!\n",
      "introductionPathway has 0  badly mapped values.  Great!\n",
      "habitat has 0  badly mapped values.  Great!\n",
      "nativeRange has 0  badly mapped values.  Great!\n"
     ]
    }
   ],
   "source": [
    "for term in mappings:\n",
    "    number_of_unmapped = sum(concatenated['verbatimNativeRange'].notnull() & concatenated['nativeRange'].isnull())\n",
    "    if number_of_unmapped == 0:\n",
    "        message = 'Great!'\n",
    "    else:\n",
    "        message = 'Bummer'        \n",
    "    print(term, \"has\", str(number_of_unmapped), \" badly mapped values. \", message)"
   ]
  },
  {
   "cell_type": "markdown",
   "metadata": {},
   "source": [
    "Multi column mapping"
   ]
  },
  {
   "cell_type": "code",
   "execution_count": 286,
   "metadata": {
    "collapsed": false
   },
   "outputs": [
    {
     "data": {
      "text/plain": [
       "['dataset',\n",
       " 'verbatimPresenceBE',\n",
       " 'verbatimPresenceFL',\n",
       " 'verbatimPresenceWA',\n",
       " 'verbatimPresenceBR',\n",
       " 'verbatimPresenceBECoast',\n",
       " 'verbatimPresenceBPNS',\n",
       " 'verbatimPresenceBEEZ']"
      ]
     },
     "execution_count": 286,
     "metadata": {},
     "output_type": "execute_result"
    }
   ],
   "source": [
    "merge_columns_mapping"
   ]
  },
  {
   "cell_type": "code",
   "execution_count": 291,
   "metadata": {
    "collapsed": false
   },
   "outputs": [
    {
     "data": {
      "text/plain": [
       "0"
      ]
     },
     "execution_count": 291,
     "metadata": {},
     "output_type": "execute_result"
    }
   ],
   "source": [
    "sum(concatenated[merge_columns].notnull().all(axis=1) & concatenated[merge_columns_final].isnull().all(axis=1))"
   ]
  },
  {
   "cell_type": "code",
   "execution_count": null,
   "metadata": {
    "collapsed": false
   },
   "outputs": [],
   "source": []
  },
  {
   "cell_type": "code",
   "execution_count": null,
   "metadata": {
    "collapsed": true
   },
   "outputs": [],
   "source": []
  }
 ],
 "metadata": {
  "kernelspec": {
   "display_name": "Python 3",
   "language": "python",
   "name": "python3"
  },
  "language_info": {
   "codemirror_mode": {
    "name": "ipython",
    "version": 3
   },
   "file_extension": ".py",
   "mimetype": "text/x-python",
   "name": "python",
   "nbconvert_exporter": "python",
   "pygments_lexer": "ipython3",
   "version": "3.5.1"
  }
 },
 "nbformat": 4,
 "nbformat_minor": 0
}
